{
  "nbformat": 4,
  "nbformat_minor": 0,
  "metadata": {
    "colab": {
      "provenance": []
    },
    "kernelspec": {
      "name": "python3",
      "display_name": "Python 3"
    },
    "language_info": {
      "name": "python"
    }
  },
  "cells": [
    {
      "cell_type": "markdown",
      "source": [
        "# Gradient Descent for Linear Regression (Single input)"
      ],
      "metadata": {
        "id": "NHr8LLBe27ST"
      }
    },
    {
      "cell_type": "markdown",
      "source": [
        "The provided code implements the gradient descent algorithm for a single input. I am utilizing the ['sri-lanka-house-prices-dataset'](https://www.kaggle.com/datasets/lasaljaywardena/sri-lanka-house-prices-dataset) dataset obtained from Kaggle, which contains the prices of houses in various regions of Sri Lanka. However, in this implementation, i will use only 9 rows of data and consider the 'House size' column as the input.\n"
      ],
      "metadata": {
        "id": "UJvueVh63VzA"
      }
    },
    {
      "cell_type": "code",
      "source": [
        "# Install the Kaggle CLI (Command Line Interface) utility\n",
        "!pip install -q kaggle"
      ],
      "metadata": {
        "id": "7cohfSiD3ImJ"
      },
      "execution_count": 177,
      "outputs": []
    },
    {
      "cell_type": "code",
      "source": [
        "# Create a new directory named .kaggle\n",
        "!mkdir ~/.kaggle"
      ],
      "metadata": {
        "id": "VZ4ZIpFPaK12"
      },
      "execution_count": 2,
      "outputs": []
    },
    {
      "cell_type": "code",
      "source": [
        "# Copy file kaggle.json to the .kaggle directory\n",
        "!cp kaggle.json ~/.kaggle"
      ],
      "metadata": {
        "id": "u92Jol8waK5A"
      },
      "execution_count": 5,
      "outputs": []
    },
    {
      "cell_type": "code",
      "source": [
        "# Sets the permissions of the kaggle.json file to be read and write only for the owner\n",
        "!chmod 600 ~/.kaggle/kaggle.json"
      ],
      "metadata": {
        "id": "L-M2LuPmaK76"
      },
      "execution_count": 6,
      "outputs": []
    },
    {
      "cell_type": "code",
      "source": [
        "# Using the Kaggle CLI to download a dataset from Kaggle.\n",
        "!kaggle datasets download -d 'lasaljaywardena/sri-lanka-house-prices-dataset'"
      ],
      "metadata": {
        "colab": {
          "base_uri": "https://localhost:8080/"
        },
        "id": "pyHTNMfXaK-Q",
        "outputId": "af4f0157-58af-4099-ab94-82be80db25cf"
      },
      "execution_count": 7,
      "outputs": [
        {
          "output_type": "stream",
          "name": "stdout",
          "text": [
            "Downloading sri-lanka-house-prices-dataset.zip to /content\n",
            " 61% 3.00M/4.88M [00:00<00:00, 5.64MB/s]\n",
            "100% 4.88M/4.88M [00:00<00:00, 7.13MB/s]\n"
          ]
        }
      ]
    },
    {
      "cell_type": "code",
      "source": [
        "import zipfile"
      ],
      "metadata": {
        "id": "y9d8Kq1faLAd"
      },
      "execution_count": 8,
      "outputs": []
    },
    {
      "cell_type": "code",
      "source": [
        "# Extract zipfile\n",
        "dataset_zip=zipfile.ZipFile('sri-lanka-house-prices-dataset.zip','r')\n",
        "dataset_zip.extractall()\n",
        "dataset_zip.close()"
      ],
      "metadata": {
        "id": "iytlfqhWaLCq"
      },
      "execution_count": 9,
      "outputs": []
    },
    {
      "cell_type": "code",
      "source": [
        "import pandas as pd\n",
        "import numpy as np\n",
        "import matplotlib.pyplot as plt\n",
        "from matplotlib.ticker import FormatStrFormatter"
      ],
      "metadata": {
        "id": "_hXirAyPaLE-"
      },
      "execution_count": 152,
      "outputs": []
    },
    {
      "cell_type": "code",
      "source": [
        "!pip install prettytable"
      ],
      "metadata": {
        "colab": {
          "base_uri": "https://localhost:8080/"
        },
        "id": "7-XuPT2Qdkil",
        "outputId": "937d0fca-c169-4bd0-dae7-1f3917b179d0"
      },
      "execution_count": 116,
      "outputs": [
        {
          "output_type": "stream",
          "name": "stdout",
          "text": [
            "Requirement already satisfied: prettytable in /usr/local/lib/python3.10/dist-packages (3.8.0)\n",
            "Requirement already satisfied: wcwidth in /usr/local/lib/python3.10/dist-packages (from prettytable) (0.2.6)\n"
          ]
        }
      ]
    },
    {
      "cell_type": "code",
      "source": [
        "# Read a CSV file named \"house_prices.csv\" and\n",
        "# display the first 10 rows of the data\n",
        "path = \"house_prices.csv\"\n",
        "adv = pd.read_csv(path, usecols=['House size', 'Price'])\n",
        "adv.head(10)"
      ],
      "metadata": {
        "colab": {
          "base_uri": "https://localhost:8080/",
          "height": 363
        },
        "id": "5tOmD2JOaLHT",
        "outputId": "0c27476b-2591-4663-9352-1ddab3e9f006"
      },
      "execution_count": 183,
      "outputs": [
        {
          "output_type": "execute_result",
          "data": {
            "text/plain": [
              "            Price    House size\n",
              "0    Rs 5,400,000  1,600.0 sqft\n",
              "1   Rs 16,800,000  1,480.0 sqft\n",
              "2   Rs 20,000,000  2,800.0 sqft\n",
              "3  Rs 187,000,000  4,000.0 sqft\n",
              "4    Rs 1,300,000    900.0 sqft\n",
              "5   Rs 55,000,000  3,300.0 sqft\n",
              "6   Rs 45,000,000  4,100.0 sqft\n",
              "7   Rs 16,700,000  1,400.0 sqft\n",
              "8   Rs 50,000,000  4,000.0 sqft\n",
              "9   Rs 16,000,000  2,000.0 sqft"
            ],
            "text/html": [
              "\n",
              "  <div id=\"df-c974ae74-ab50-4803-a271-566cb23d04cd\" class=\"colab-df-container\">\n",
              "    <div>\n",
              "<style scoped>\n",
              "    .dataframe tbody tr th:only-of-type {\n",
              "        vertical-align: middle;\n",
              "    }\n",
              "\n",
              "    .dataframe tbody tr th {\n",
              "        vertical-align: top;\n",
              "    }\n",
              "\n",
              "    .dataframe thead th {\n",
              "        text-align: right;\n",
              "    }\n",
              "</style>\n",
              "<table border=\"1\" class=\"dataframe\">\n",
              "  <thead>\n",
              "    <tr style=\"text-align: right;\">\n",
              "      <th></th>\n",
              "      <th>Price</th>\n",
              "      <th>House size</th>\n",
              "    </tr>\n",
              "  </thead>\n",
              "  <tbody>\n",
              "    <tr>\n",
              "      <th>0</th>\n",
              "      <td>Rs 5,400,000</td>\n",
              "      <td>1,600.0 sqft</td>\n",
              "    </tr>\n",
              "    <tr>\n",
              "      <th>1</th>\n",
              "      <td>Rs 16,800,000</td>\n",
              "      <td>1,480.0 sqft</td>\n",
              "    </tr>\n",
              "    <tr>\n",
              "      <th>2</th>\n",
              "      <td>Rs 20,000,000</td>\n",
              "      <td>2,800.0 sqft</td>\n",
              "    </tr>\n",
              "    <tr>\n",
              "      <th>3</th>\n",
              "      <td>Rs 187,000,000</td>\n",
              "      <td>4,000.0 sqft</td>\n",
              "    </tr>\n",
              "    <tr>\n",
              "      <th>4</th>\n",
              "      <td>Rs 1,300,000</td>\n",
              "      <td>900.0 sqft</td>\n",
              "    </tr>\n",
              "    <tr>\n",
              "      <th>5</th>\n",
              "      <td>Rs 55,000,000</td>\n",
              "      <td>3,300.0 sqft</td>\n",
              "    </tr>\n",
              "    <tr>\n",
              "      <th>6</th>\n",
              "      <td>Rs 45,000,000</td>\n",
              "      <td>4,100.0 sqft</td>\n",
              "    </tr>\n",
              "    <tr>\n",
              "      <th>7</th>\n",
              "      <td>Rs 16,700,000</td>\n",
              "      <td>1,400.0 sqft</td>\n",
              "    </tr>\n",
              "    <tr>\n",
              "      <th>8</th>\n",
              "      <td>Rs 50,000,000</td>\n",
              "      <td>4,000.0 sqft</td>\n",
              "    </tr>\n",
              "    <tr>\n",
              "      <th>9</th>\n",
              "      <td>Rs 16,000,000</td>\n",
              "      <td>2,000.0 sqft</td>\n",
              "    </tr>\n",
              "  </tbody>\n",
              "</table>\n",
              "</div>\n",
              "    <div class=\"colab-df-buttons\">\n",
              "\n",
              "  <div class=\"colab-df-container\">\n",
              "    <button class=\"colab-df-convert\" onclick=\"convertToInteractive('df-c974ae74-ab50-4803-a271-566cb23d04cd')\"\n",
              "            title=\"Convert this dataframe to an interactive table.\"\n",
              "            style=\"display:none;\">\n",
              "\n",
              "  <svg xmlns=\"http://www.w3.org/2000/svg\" height=\"24px\" viewBox=\"0 -960 960 960\">\n",
              "    <path d=\"M120-120v-720h720v720H120Zm60-500h600v-160H180v160Zm220 220h160v-160H400v160Zm0 220h160v-160H400v160ZM180-400h160v-160H180v160Zm440 0h160v-160H620v160ZM180-180h160v-160H180v160Zm440 0h160v-160H620v160Z\"/>\n",
              "  </svg>\n",
              "    </button>\n",
              "\n",
              "  <style>\n",
              "    .colab-df-container {\n",
              "      display:flex;\n",
              "      gap: 12px;\n",
              "    }\n",
              "\n",
              "    .colab-df-convert {\n",
              "      background-color: #E8F0FE;\n",
              "      border: none;\n",
              "      border-radius: 50%;\n",
              "      cursor: pointer;\n",
              "      display: none;\n",
              "      fill: #1967D2;\n",
              "      height: 32px;\n",
              "      padding: 0 0 0 0;\n",
              "      width: 32px;\n",
              "    }\n",
              "\n",
              "    .colab-df-convert:hover {\n",
              "      background-color: #E2EBFA;\n",
              "      box-shadow: 0px 1px 2px rgba(60, 64, 67, 0.3), 0px 1px 3px 1px rgba(60, 64, 67, 0.15);\n",
              "      fill: #174EA6;\n",
              "    }\n",
              "\n",
              "    .colab-df-buttons div {\n",
              "      margin-bottom: 4px;\n",
              "    }\n",
              "\n",
              "    [theme=dark] .colab-df-convert {\n",
              "      background-color: #3B4455;\n",
              "      fill: #D2E3FC;\n",
              "    }\n",
              "\n",
              "    [theme=dark] .colab-df-convert:hover {\n",
              "      background-color: #434B5C;\n",
              "      box-shadow: 0px 1px 3px 1px rgba(0, 0, 0, 0.15);\n",
              "      filter: drop-shadow(0px 1px 2px rgba(0, 0, 0, 0.3));\n",
              "      fill: #FFFFFF;\n",
              "    }\n",
              "  </style>\n",
              "\n",
              "    <script>\n",
              "      const buttonEl =\n",
              "        document.querySelector('#df-c974ae74-ab50-4803-a271-566cb23d04cd button.colab-df-convert');\n",
              "      buttonEl.style.display =\n",
              "        google.colab.kernel.accessAllowed ? 'block' : 'none';\n",
              "\n",
              "      async function convertToInteractive(key) {\n",
              "        const element = document.querySelector('#df-c974ae74-ab50-4803-a271-566cb23d04cd');\n",
              "        const dataTable =\n",
              "          await google.colab.kernel.invokeFunction('convertToInteractive',\n",
              "                                                    [key], {});\n",
              "        if (!dataTable) return;\n",
              "\n",
              "        const docLinkHtml = 'Like what you see? Visit the ' +\n",
              "          '<a target=\"_blank\" href=https://colab.research.google.com/notebooks/data_table.ipynb>data table notebook</a>'\n",
              "          + ' to learn more about interactive tables.';\n",
              "        element.innerHTML = '';\n",
              "        dataTable['output_type'] = 'display_data';\n",
              "        await google.colab.output.renderOutput(dataTable, element);\n",
              "        const docLink = document.createElement('div');\n",
              "        docLink.innerHTML = docLinkHtml;\n",
              "        element.appendChild(docLink);\n",
              "      }\n",
              "    </script>\n",
              "  </div>\n",
              "\n",
              "\n",
              "<div id=\"df-c0e09081-0578-4660-b79c-6e0ee428e6b5\">\n",
              "  <button class=\"colab-df-quickchart\" onclick=\"quickchart('df-c0e09081-0578-4660-b79c-6e0ee428e6b5')\"\n",
              "            title=\"Suggest charts.\"\n",
              "            style=\"display:none;\">\n",
              "\n",
              "<svg xmlns=\"http://www.w3.org/2000/svg\" height=\"24px\"viewBox=\"0 0 24 24\"\n",
              "     width=\"24px\">\n",
              "    <g>\n",
              "        <path d=\"M19 3H5c-1.1 0-2 .9-2 2v14c0 1.1.9 2 2 2h14c1.1 0 2-.9 2-2V5c0-1.1-.9-2-2-2zM9 17H7v-7h2v7zm4 0h-2V7h2v10zm4 0h-2v-4h2v4z\"/>\n",
              "    </g>\n",
              "</svg>\n",
              "  </button>\n",
              "\n",
              "<style>\n",
              "  .colab-df-quickchart {\n",
              "      --bg-color: #E8F0FE;\n",
              "      --fill-color: #1967D2;\n",
              "      --hover-bg-color: #E2EBFA;\n",
              "      --hover-fill-color: #174EA6;\n",
              "      --disabled-fill-color: #AAA;\n",
              "      --disabled-bg-color: #DDD;\n",
              "  }\n",
              "\n",
              "  [theme=dark] .colab-df-quickchart {\n",
              "      --bg-color: #3B4455;\n",
              "      --fill-color: #D2E3FC;\n",
              "      --hover-bg-color: #434B5C;\n",
              "      --hover-fill-color: #FFFFFF;\n",
              "      --disabled-bg-color: #3B4455;\n",
              "      --disabled-fill-color: #666;\n",
              "  }\n",
              "\n",
              "  .colab-df-quickchart {\n",
              "    background-color: var(--bg-color);\n",
              "    border: none;\n",
              "    border-radius: 50%;\n",
              "    cursor: pointer;\n",
              "    display: none;\n",
              "    fill: var(--fill-color);\n",
              "    height: 32px;\n",
              "    padding: 0;\n",
              "    width: 32px;\n",
              "  }\n",
              "\n",
              "  .colab-df-quickchart:hover {\n",
              "    background-color: var(--hover-bg-color);\n",
              "    box-shadow: 0 1px 2px rgba(60, 64, 67, 0.3), 0 1px 3px 1px rgba(60, 64, 67, 0.15);\n",
              "    fill: var(--button-hover-fill-color);\n",
              "  }\n",
              "\n",
              "  .colab-df-quickchart-complete:disabled,\n",
              "  .colab-df-quickchart-complete:disabled:hover {\n",
              "    background-color: var(--disabled-bg-color);\n",
              "    fill: var(--disabled-fill-color);\n",
              "    box-shadow: none;\n",
              "  }\n",
              "\n",
              "  .colab-df-spinner {\n",
              "    border: 2px solid var(--fill-color);\n",
              "    border-color: transparent;\n",
              "    border-bottom-color: var(--fill-color);\n",
              "    animation:\n",
              "      spin 1s steps(1) infinite;\n",
              "  }\n",
              "\n",
              "  @keyframes spin {\n",
              "    0% {\n",
              "      border-color: transparent;\n",
              "      border-bottom-color: var(--fill-color);\n",
              "      border-left-color: var(--fill-color);\n",
              "    }\n",
              "    20% {\n",
              "      border-color: transparent;\n",
              "      border-left-color: var(--fill-color);\n",
              "      border-top-color: var(--fill-color);\n",
              "    }\n",
              "    30% {\n",
              "      border-color: transparent;\n",
              "      border-left-color: var(--fill-color);\n",
              "      border-top-color: var(--fill-color);\n",
              "      border-right-color: var(--fill-color);\n",
              "    }\n",
              "    40% {\n",
              "      border-color: transparent;\n",
              "      border-right-color: var(--fill-color);\n",
              "      border-top-color: var(--fill-color);\n",
              "    }\n",
              "    60% {\n",
              "      border-color: transparent;\n",
              "      border-right-color: var(--fill-color);\n",
              "    }\n",
              "    80% {\n",
              "      border-color: transparent;\n",
              "      border-right-color: var(--fill-color);\n",
              "      border-bottom-color: var(--fill-color);\n",
              "    }\n",
              "    90% {\n",
              "      border-color: transparent;\n",
              "      border-bottom-color: var(--fill-color);\n",
              "    }\n",
              "  }\n",
              "</style>\n",
              "\n",
              "  <script>\n",
              "    async function quickchart(key) {\n",
              "      const quickchartButtonEl =\n",
              "        document.querySelector('#' + key + ' button');\n",
              "      quickchartButtonEl.disabled = true;  // To prevent multiple clicks.\n",
              "      quickchartButtonEl.classList.add('colab-df-spinner');\n",
              "      try {\n",
              "        const charts = await google.colab.kernel.invokeFunction(\n",
              "            'suggestCharts', [key], {});\n",
              "      } catch (error) {\n",
              "        console.error('Error during call to suggestCharts:', error);\n",
              "      }\n",
              "      quickchartButtonEl.classList.remove('colab-df-spinner');\n",
              "      quickchartButtonEl.classList.add('colab-df-quickchart-complete');\n",
              "    }\n",
              "    (() => {\n",
              "      let quickchartButtonEl =\n",
              "        document.querySelector('#df-c0e09081-0578-4660-b79c-6e0ee428e6b5 button');\n",
              "      quickchartButtonEl.style.display =\n",
              "        google.colab.kernel.accessAllowed ? 'block' : 'none';\n",
              "    })();\n",
              "  </script>\n",
              "</div>\n",
              "    </div>\n",
              "  </div>\n"
            ]
          },
          "metadata": {},
          "execution_count": 183
        }
      ]
    },
    {
      "cell_type": "markdown",
      "source": [
        "## Problem Statement"
      ],
      "metadata": {
        "id": "I6Mtr1oV5HJ4"
      }
    },
    {
      "cell_type": "markdown",
      "source": [
        "Predict house prices using house sizes as input. I am using 9 training data points, specifically the first 9 rows from the dataset, excluding the 4th row. The exclusion of the 4th row is necessary due to an unusually high house price value. It's important to note that this exclusion is part of my approach to effectively learn and apply the gradient descent algorithm in my analysis."
      ],
      "metadata": {
        "id": "SBY1ly8L5WQn"
      }
    },
    {
      "cell_type": "code",
      "source": [
        "x_train = pd.concat([adv['House size'][:3], adv['House size'][4:10]]).values\n",
        "y_train = pd.concat([adv['Price'][:3], adv['Price'][4:10]]).values\n",
        "\n",
        "# Removing non-digit characters and converting to integer\n",
        "x_train = [int(''.join(filter(str.isdigit, str(x)))) for x in x_train]\n",
        "y_train = [int(''.join(filter(str.isdigit, str(y)))) for y in y_train]\n",
        "\n",
        "print(f\"x_train length: {len(x_train)}\")\n",
        "print(f\"y_train length: {len(y_train)}\")"
      ],
      "metadata": {
        "colab": {
          "base_uri": "https://localhost:8080/"
        },
        "id": "7YobEcQCaLJd",
        "outputId": "0ed67c63-445d-4e65-ca5c-27acc90f0f18"
      },
      "execution_count": 158,
      "outputs": [
        {
          "output_type": "stream",
          "name": "stdout",
          "text": [
            "x_train length: 9\n",
            "y_train length: 9\n"
          ]
        }
      ]
    },
    {
      "cell_type": "code",
      "source": [
        "from prettytable import PrettyTable\n",
        "\n",
        "columns = ['House Size', 'Price']\n",
        "data = list(zip(x_train, y_train))\n",
        "\n",
        "table = PrettyTable()\n",
        "table.field_names = columns\n",
        "\n",
        "for row in data:\n",
        "    table.add_row(row)\n",
        "print(table)"
      ],
      "metadata": {
        "colab": {
          "base_uri": "https://localhost:8080/"
        },
        "id": "WtpP_OjNdYwP",
        "outputId": "110da430-7802-4f58-d9d6-5a06434dfae2"
      },
      "execution_count": 159,
      "outputs": [
        {
          "output_type": "stream",
          "name": "stdout",
          "text": [
            "+------------+----------+\n",
            "| House Size |  Price   |\n",
            "+------------+----------+\n",
            "|   16000    | 5400000  |\n",
            "|   14800    | 16800000 |\n",
            "|   28000    | 20000000 |\n",
            "|    9000    | 1300000  |\n",
            "|   33000    | 55000000 |\n",
            "|   41000    | 45000000 |\n",
            "|   14000    | 16700000 |\n",
            "|   40000    | 50000000 |\n",
            "|   20000    | 16000000 |\n",
            "+------------+----------+\n"
          ]
        }
      ]
    },
    {
      "cell_type": "code",
      "source": [
        "# Plot the data points/scatter plot\n",
        "plt.scatter(x_train, y_train, color='red', marker='x')\n",
        "# Set the title\n",
        "plt.title(\"Housing Prices\")\n",
        "# Set the x-axis label\n",
        "plt.xlabel('House Size (sqft)')\n",
        "# Set the y-axis label and formatting\n",
        "# to display the values as integers with a width of 8 characters\n",
        "plt.ylabel('Price (Rs)')\n",
        "plt.gca().yaxis.set_major_formatter(FormatStrFormatter('%8.0f'))\n",
        "\n",
        "plt.show()"
      ],
      "metadata": {
        "colab": {
          "base_uri": "https://localhost:8080/",
          "height": 472
        },
        "id": "RaHoI8mZmsfK",
        "outputId": "bf68e429-cc63-453f-ebb8-1b674de2a6ab"
      },
      "execution_count": 178,
      "outputs": [
        {
          "output_type": "display_data",
          "data": {
            "text/plain": [
              "<Figure size 640x480 with 1 Axes>"
            ],
            "image/png": "[encoded data removed]"
          },
          "metadata": {}
        }
      ]
    },
    {
      "cell_type": "markdown",
      "source": [
        "## compute_cost"
      ],
      "metadata": {
        "id": "nEkKmTJx8IYJ"
      }
    },
    {
      "cell_type": "markdown",
      "source": [
        "This function is used to calculate the cost function in the context of linear regression. In the context of linear regression, the cost function measures the overall error between the predicted values and the actual values of the target variable."
      ],
      "metadata": {
        "id": "nEv4ac6y8Tr0"
      }
    },
    {
      "cell_type": "code",
      "source": [
        "#Function to calculate the cost function\n",
        "def compute_cost(x, y, w, b):\n",
        "\n",
        "    # Total of training examples\n",
        "    m = len(x_train)\n",
        "    cost = 0\n",
        "\n",
        "    for i in range(m):\n",
        "        f_wb = w * x[i] + b\n",
        "        cost = cost + (f_wb - y[i])**2\n",
        "    total_cost = 1 / (2 * m) * cost\n",
        "\n",
        "    return total_cost"
      ],
      "metadata": {
        "id": "N3QfVDUDdYyg"
      },
      "execution_count": 181,
      "outputs": []
    },
    {
      "cell_type": "markdown",
      "source": [
        "## compute_gradient"
      ],
      "metadata": {
        "id": "iMNBNXWH85QW"
      }
    },
    {
      "cell_type": "markdown",
      "source": [
        "This function calculates the gradients of the cost function with respect to the parameters w and b in the context of linear regression. The function calculates the gradients using the partial derivatives of the cost function.The function returns these average gradients, which will be used in the gradient descent algorithm to update the model parameters w and b iteratively to minimize the cost function."
      ],
      "metadata": {
        "id": "oOSWsrHw87PG"
      }
    },
    {
      "cell_type": "code",
      "source": [
        "def compute_gradient(x, y, w, b):\n",
        "\n",
        "    # Total of training examples\n",
        "    m = len(x_train)\n",
        "    dj_dw = 0\n",
        "    dj_db = 0\n",
        "\n",
        "    for i in range(m):\n",
        "        f_wb = w * x[i] + b\n",
        "        dj_dw_i = (f_wb - y[i]) * x[i]\n",
        "        dj_db_i = f_wb - y[i]\n",
        "        dj_dw = dj_dw + dj_dw_i\n",
        "        dj_db = dj_db + dj_db_i\n",
        "    dj_dw = dj_dw / m\n",
        "    dj_db = dj_db / m\n",
        "\n",
        "    return dj_dw, dj_db"
      ],
      "metadata": {
        "id": "1iERqihMdY09"
      },
      "execution_count": 162,
      "outputs": []
    },
    {
      "cell_type": "markdown",
      "source": [
        "## gradien_descent"
      ],
      "metadata": {
        "id": "16C87maH9t95"
      }
    },
    {
      "cell_type": "markdown",
      "source": [
        "This function implements the gradient descent algorithm to minimize a cost function during training model."
      ],
      "metadata": {
        "id": "KJhl5aUV9zUc"
      }
    },
    {
      "cell_type": "code",
      "source": [
        "def gradient_descent(x, y, w_in, b_in, alpha, iteration, cost_function, gradient_function):\n",
        "\n",
        "    J_history = []  # An array to store cost values\n",
        "    b = b_in\n",
        "    w = w_in\n",
        "\n",
        "    for i in range(iteration):\n",
        "        # Calculate the gradient and update the parameters using gradient_function\n",
        "        dj_dw, dj_db = gradient_function(x, y, w , b)\n",
        "\n",
        "        # Update parameters (w,b)\n",
        "        b = b - alpha * dj_db\n",
        "        w = w - alpha * dj_dw\n",
        "\n",
        "        # Save cost values at each iteration\n",
        "        if i<iterations:\n",
        "            J_history.append( cost_function(x, y, w , b))\n",
        "        # Print cost values, w, and b each iteration\n",
        "        print(f\"Iteration {i:2}: Cost {J_history[-1]:0.2e} \",f\"w: {w: 0.3e}, b:{b: 0.5e}\")\n",
        "\n",
        "    return w, b, J_history"
      ],
      "metadata": {
        "id": "zR6H7OitdY3i"
      },
      "execution_count": 176,
      "outputs": []
    },
    {
      "cell_type": "code",
      "source": [
        "# Initialize parameters\n",
        "w_init = 0\n",
        "b_init = 0\n",
        "# Some gradient descent settings\n",
        "iterations = 15\n",
        "tmp_alpha = 1.0e-9\n",
        "# Run gradient descent\n",
        "w_final, b_final, J_hist = gradient_descent(x_train ,y_train, w_init, b_init, tmp_alpha,\n",
        "                                                    iterations, compute_cost, compute_gradient)\n",
        "print(f\"found by gradient descent: (w: {w_final:8.4f},b: {b_final:8.4f})\")"
      ],
      "metadata": {
        "colab": {
          "base_uri": "https://localhost:8080/"
        },
        "id": "X1QrxGkCgj1d",
        "outputId": "f137f279-4a80-423c-e78d-7f1c17ee1765"
      },
      "execution_count": 167,
      "outputs": [
        {
          "output_type": "stream",
          "name": "stdout",
          "text": [
            "Iteration  0: Cost 8.21e+13  w:  7.912e+02, b: 2.51333e-02\n",
            "Iteration  1: Cost 4.57e+13  w:  1.028e+03, b: 3.12961e-02\n",
            "Iteration  2: Cost 4.24e+13  w:  1.099e+03, b: 3.17805e-02\n",
            "Iteration  3: Cost 4.21e+13  w:  1.120e+03, b: 3.05652e-02\n",
            "Iteration  4: Cost 4.21e+13  w:  1.126e+03, b: 2.88411e-02\n",
            "Iteration  5: Cost 4.21e+13  w:  1.128e+03, b: 2.69647e-02\n",
            "Iteration  6: Cost 4.21e+13  w:  1.129e+03, b: 2.50427e-02\n",
            "Iteration  7: Cost 4.21e+13  w:  1.129e+03, b: 2.31071e-02\n",
            "Iteration  8: Cost 4.21e+13  w:  1.129e+03, b: 2.11673e-02\n",
            "Iteration  9: Cost 4.21e+13  w:  1.129e+03, b: 1.92264e-02\n",
            "Iteration 10: Cost 4.21e+13  w:  1.129e+03, b: 1.72851e-02\n",
            "Iteration 11: Cost 4.21e+13  w:  1.129e+03, b: 1.53437e-02\n",
            "Iteration 12: Cost 4.21e+13  w:  1.129e+03, b: 1.34023e-02\n",
            "Iteration 13: Cost 4.21e+13  w:  1.129e+03, b: 1.14608e-02\n",
            "Iteration 14: Cost 4.21e+13  w:  1.129e+03, b: 9.51934e-03\n",
            "found by gradient descent: (w: 1129.1619,b:   0.0095)\n"
          ]
        }
      ]
    },
    {
      "cell_type": "code",
      "source": [
        "# Plot the data points/scatter plot\n",
        "plt.scatter(x_train, y_train, label='Data Points', color='red', marker='x')\n",
        "\n",
        "# Generate data for the line using the final w and b\n",
        "x_line = np.linspace(min(x_train), max(x_train), 100)\n",
        "y_line = w_final * x_line + b_final\n",
        "\n",
        "# Plot the line\n",
        "plt.plot(x_line, y_line, label='Regression Line', color='blue')\n",
        "\n",
        "# Set labels and title\n",
        "plt.title('Housing Prices')\n",
        "plt.xlabel('House Size (sqft)')\n",
        "plt.ylabel('Price (Rs)')\n",
        "plt.gca().yaxis.set_major_formatter(FormatStrFormatter('%8.0f'))\n",
        "\n",
        "plt.legend()\n",
        "plt.show()"
      ],
      "metadata": {
        "colab": {
          "base_uri": "https://localhost:8080/",
          "height": 472
        },
        "id": "Xo73dOD_og_s",
        "outputId": "949bd78b-f961-445f-ebb1-d139195148fd"
      },
      "execution_count": 179,
      "outputs": [
        {
          "output_type": "display_data",
          "data": {
            "text/plain": [
              "<Figure size 640x480 with 1 Axes>"
            ],
            "image/png": "[encoded data removed]"
          },
          "metadata": {}
        }
      ]
    },
    {
      "cell_type": "markdown",
      "source": [
        "## Predictions"
      ],
      "metadata": {
        "id": "qTuDnCbK7fo5"
      }
    },
    {
      "cell_type": "markdown",
      "source": [
        "After obtaining the optimal values for the parameters w and b, we can now utilize the model to predict housing values based on our learned parameters."
      ],
      "metadata": {
        "id": "If043p0U7k6Q"
      }
    },
    {
      "cell_type": "code",
      "source": [
        "print(f\"Prediction for a 22000 sqft house: Rs.{w_final*22000 + b_final:0.1f}\")\n",
        "print(f\"Prediction for a 15000 sqft house: Rs.{w_final*15000 + b_final:0.1f}\")"
      ],
      "metadata": {
        "colab": {
          "base_uri": "https://localhost:8080/"
        },
        "id": "PonqPA5jrdxP",
        "outputId": "d14c164f-39ab-4b3c-c191-029c52323998"
      },
      "execution_count": 174,
      "outputs": [
        {
          "output_type": "stream",
          "name": "stdout",
          "text": [
            "Prediction for a 22000 sqft house: Rs.24841561.1\n",
            "Prediction for a 15000 sqft house: Rs.16937428.0\n"
          ]
        }
      ]
    },
    {
      "cell_type": "code",
      "source": [
        "# Plot the data points/scatter plot\n",
        "plt.scatter(x_train, y_train, label='Data Points', color='red', marker='x')\n",
        "\n",
        "# Generate data for the line using the final w and b\n",
        "x_line = np.linspace(min(x_train), max(x_train), 100)\n",
        "y_line = w_final * x_line + b_final\n",
        "\n",
        "# Generate new data points with different color\n",
        "x_new = np.array([22000, 15000])\n",
        "y_new = np.array([w_final*x + b_final for x in x_new])\n",
        "colors = ['yellow', 'yellow']  # Different colors for the new data points\n",
        "\n",
        "# Plot the line\n",
        "plt.plot(x_line, y_line, label='Regression Line', color='blue')\n",
        "\n",
        "# Plot the scatter plot for the new data\n",
        "plt.scatter(x_new, y_new, label='New Data Points', color=colors, marker='x')\n",
        "\n",
        "# Set labels and title\n",
        "plt.title('Housing Prices')\n",
        "plt.xlabel('House Size (sqft)')\n",
        "plt.ylabel('Price (Rs)')\n",
        "plt.gca().yaxis.set_major_formatter(FormatStrFormatter('%8.0f'))\n",
        "\n",
        "plt.legend()\n",
        "plt.show()"
      ],
      "metadata": {
        "colab": {
          "base_uri": "https://localhost:8080/",
          "height": 472
        },
        "id": "XLkrCehKvWpL",
        "outputId": "b08d6871-60c3-49b0-f67d-fa5e3c0c8285"
      },
      "execution_count": 180,
      "outputs": [
        {
          "output_type": "display_data",
          "data": {
            "text/plain": [
              "<Figure size 640x480 with 1 Axes>"
            ],
            "image/png": "[encoded data removed]"
          },
          "metadata": {}
        }
      ]
    }
  ]
}